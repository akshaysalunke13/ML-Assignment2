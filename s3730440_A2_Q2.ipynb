{
  "cells": [
    {
      "metadata": {},
      "cell_type": "markdown",
      "source": "# Question 2\n\nWe are using \"A2_Q2.csv\" dataset, which resides in the same folder.\n\n## Part A\nWe assume *true* is positive target level. Using a score threshold of 0.5 we calculate confusion matrix using `pd.crosstab()`<br>\nWe import our dataset into pandas dataframe."
    },
    {
      "metadata": {
        "trusted": true
      },
      "cell_type": "code",
      "source": "import pandas as pd\ndf = pd.read_csv('A2_Q2.csv')",
      "execution_count": 1,
      "outputs": []
    },
    {
      "metadata": {
        "trusted": true
      },
      "cell_type": "code",
      "source": "df.shape",
      "execution_count": 2,
      "outputs": [
        {
          "output_type": "execute_result",
          "execution_count": 2,
          "data": {
            "text/plain": "(30, 3)"
          },
          "metadata": {}
        }
      ]
    },
    {
      "metadata": {},
      "cell_type": "markdown",
      "source": "We now analyse **Target** class for correct and incorrect classifications. We assume correct classification is any **Score >= 0.5**"
    },
    {
      "metadata": {
        "trusted": true
      },
      "cell_type": "code",
      "source": "df[df.Score >= 0.50]['Target'].value_counts()",
      "execution_count": 3,
      "outputs": [
        {
          "output_type": "execute_result",
          "execution_count": 3,
          "data": {
            "text/plain": "True     9\nFalse    6\nName: Target, dtype: int64"
          },
          "metadata": {}
        }
      ]
    },
    {
      "metadata": {
        "trusted": true
      },
      "cell_type": "code",
      "source": "df[df.Score < 0.50]['Target'].value_counts()",
      "execution_count": 4,
      "outputs": [
        {
          "output_type": "execute_result",
          "execution_count": 4,
          "data": {
            "text/plain": "False    11\nTrue      4\nName: Target, dtype: int64"
          },
          "metadata": {}
        }
      ]
    },
    {
      "metadata": {},
      "cell_type": "markdown",
      "source": "Create copy of our dataframe, rename column **Target** to **Predicted** and display this df"
    },
    {
      "metadata": {
        "trusted": true
      },
      "cell_type": "code",
      "source": "df_new = df.copy()\ndf_new = df_new.rename(columns={'Target':'Predicted'})\ndf_new",
      "execution_count": 5,
      "outputs": [
        {
          "output_type": "execute_result",
          "execution_count": 5,
          "data": {
            "text/html": "<div>\n<style scoped>\n    .dataframe tbody tr th:only-of-type {\n        vertical-align: middle;\n    }\n\n    .dataframe tbody tr th {\n        vertical-align: top;\n    }\n\n    .dataframe thead th {\n        text-align: right;\n    }\n</style>\n<table border=\"1\" class=\"dataframe\">\n  <thead>\n    <tr style=\"text-align: right;\">\n      <th></th>\n      <th>ID</th>\n      <th>Predicted</th>\n      <th>Score</th>\n    </tr>\n  </thead>\n  <tbody>\n    <tr>\n      <th>0</th>\n      <td>1</td>\n      <td>False</td>\n      <td>0.46</td>\n    </tr>\n    <tr>\n      <th>1</th>\n      <td>2</td>\n      <td>False</td>\n      <td>0.14</td>\n    </tr>\n    <tr>\n      <th>2</th>\n      <td>3</td>\n      <td>False</td>\n      <td>0.48</td>\n    </tr>\n    <tr>\n      <th>3</th>\n      <td>4</td>\n      <td>True</td>\n      <td>0.91</td>\n    </tr>\n    <tr>\n      <th>4</th>\n      <td>5</td>\n      <td>False</td>\n      <td>0.24</td>\n    </tr>\n    <tr>\n      <th>5</th>\n      <td>6</td>\n      <td>True</td>\n      <td>0.79</td>\n    </tr>\n    <tr>\n      <th>6</th>\n      <td>7</td>\n      <td>False</td>\n      <td>0.17</td>\n    </tr>\n    <tr>\n      <th>7</th>\n      <td>8</td>\n      <td>False</td>\n      <td>0.11</td>\n    </tr>\n    <tr>\n      <th>8</th>\n      <td>9</td>\n      <td>False</td>\n      <td>0.54</td>\n    </tr>\n    <tr>\n      <th>9</th>\n      <td>10</td>\n      <td>True</td>\n      <td>0.32</td>\n    </tr>\n    <tr>\n      <th>10</th>\n      <td>11</td>\n      <td>False</td>\n      <td>0.26</td>\n    </tr>\n    <tr>\n      <th>11</th>\n      <td>12</td>\n      <td>True</td>\n      <td>0.54</td>\n    </tr>\n    <tr>\n      <th>12</th>\n      <td>13</td>\n      <td>True</td>\n      <td>0.41</td>\n    </tr>\n    <tr>\n      <th>13</th>\n      <td>14</td>\n      <td>True</td>\n      <td>0.89</td>\n    </tr>\n    <tr>\n      <th>14</th>\n      <td>15</td>\n      <td>False</td>\n      <td>0.59</td>\n    </tr>\n    <tr>\n      <th>15</th>\n      <td>16</td>\n      <td>True</td>\n      <td>0.27</td>\n    </tr>\n    <tr>\n      <th>16</th>\n      <td>17</td>\n      <td>True</td>\n      <td>0.87</td>\n    </tr>\n    <tr>\n      <th>17</th>\n      <td>18</td>\n      <td>False</td>\n      <td>0.35</td>\n    </tr>\n    <tr>\n      <th>18</th>\n      <td>19</td>\n      <td>False</td>\n      <td>0.36</td>\n    </tr>\n    <tr>\n      <th>19</th>\n      <td>20</td>\n      <td>False</td>\n      <td>0.89</td>\n    </tr>\n    <tr>\n      <th>20</th>\n      <td>21</td>\n      <td>False</td>\n      <td>0.03</td>\n    </tr>\n    <tr>\n      <th>21</th>\n      <td>22</td>\n      <td>True</td>\n      <td>0.81</td>\n    </tr>\n    <tr>\n      <th>22</th>\n      <td>23</td>\n      <td>False</td>\n      <td>0.72</td>\n    </tr>\n    <tr>\n      <th>23</th>\n      <td>24</td>\n      <td>False</td>\n      <td>0.68</td>\n    </tr>\n    <tr>\n      <th>24</th>\n      <td>25</td>\n      <td>True</td>\n      <td>0.71</td>\n    </tr>\n    <tr>\n      <th>25</th>\n      <td>26</td>\n      <td>True</td>\n      <td>0.63</td>\n    </tr>\n    <tr>\n      <th>26</th>\n      <td>27</td>\n      <td>True</td>\n      <td>0.48</td>\n    </tr>\n    <tr>\n      <th>27</th>\n      <td>28</td>\n      <td>False</td>\n      <td>0.61</td>\n    </tr>\n    <tr>\n      <th>28</th>\n      <td>29</td>\n      <td>True</td>\n      <td>0.68</td>\n    </tr>\n    <tr>\n      <th>29</th>\n      <td>30</td>\n      <td>False</td>\n      <td>0.14</td>\n    </tr>\n  </tbody>\n</table>\n</div>",
            "text/plain": "    ID  Predicted  Score\n0    1      False   0.46\n1    2      False   0.14\n2    3      False   0.48\n3    4       True   0.91\n4    5      False   0.24\n5    6       True   0.79\n6    7      False   0.17\n7    8      False   0.11\n8    9      False   0.54\n9   10       True   0.32\n10  11      False   0.26\n11  12       True   0.54\n12  13       True   0.41\n13  14       True   0.89\n14  15      False   0.59\n15  16       True   0.27\n16  17       True   0.87\n17  18      False   0.35\n18  19      False   0.36\n19  20      False   0.89\n20  21      False   0.03\n21  22       True   0.81\n22  23      False   0.72\n23  24      False   0.68\n24  25       True   0.71\n25  26       True   0.63\n26  27       True   0.48\n27  28      False   0.61\n28  29       True   0.68\n29  30      False   0.14"
          },
          "metadata": {}
        }
      ]
    },
    {
      "metadata": {},
      "cell_type": "markdown",
      "source": "We create a new column **Actual** which is **True** for all score thresholds >= 0.5, **False** otherwise"
    },
    {
      "metadata": {
        "trusted": true
      },
      "cell_type": "code",
      "source": "df_new['Actual'] = df_new['Score'] >= 0.50\ndf_new",
      "execution_count": 6,
      "outputs": [
        {
          "output_type": "execute_result",
          "execution_count": 6,
          "data": {
            "text/html": "<div>\n<style scoped>\n    .dataframe tbody tr th:only-of-type {\n        vertical-align: middle;\n    }\n\n    .dataframe tbody tr th {\n        vertical-align: top;\n    }\n\n    .dataframe thead th {\n        text-align: right;\n    }\n</style>\n<table border=\"1\" class=\"dataframe\">\n  <thead>\n    <tr style=\"text-align: right;\">\n      <th></th>\n      <th>ID</th>\n      <th>Predicted</th>\n      <th>Score</th>\n      <th>Actual</th>\n    </tr>\n  </thead>\n  <tbody>\n    <tr>\n      <th>0</th>\n      <td>1</td>\n      <td>False</td>\n      <td>0.46</td>\n      <td>False</td>\n    </tr>\n    <tr>\n      <th>1</th>\n      <td>2</td>\n      <td>False</td>\n      <td>0.14</td>\n      <td>False</td>\n    </tr>\n    <tr>\n      <th>2</th>\n      <td>3</td>\n      <td>False</td>\n      <td>0.48</td>\n      <td>False</td>\n    </tr>\n    <tr>\n      <th>3</th>\n      <td>4</td>\n      <td>True</td>\n      <td>0.91</td>\n      <td>True</td>\n    </tr>\n    <tr>\n      <th>4</th>\n      <td>5</td>\n      <td>False</td>\n      <td>0.24</td>\n      <td>False</td>\n    </tr>\n    <tr>\n      <th>5</th>\n      <td>6</td>\n      <td>True</td>\n      <td>0.79</td>\n      <td>True</td>\n    </tr>\n    <tr>\n      <th>6</th>\n      <td>7</td>\n      <td>False</td>\n      <td>0.17</td>\n      <td>False</td>\n    </tr>\n    <tr>\n      <th>7</th>\n      <td>8</td>\n      <td>False</td>\n      <td>0.11</td>\n      <td>False</td>\n    </tr>\n    <tr>\n      <th>8</th>\n      <td>9</td>\n      <td>False</td>\n      <td>0.54</td>\n      <td>True</td>\n    </tr>\n    <tr>\n      <th>9</th>\n      <td>10</td>\n      <td>True</td>\n      <td>0.32</td>\n      <td>False</td>\n    </tr>\n    <tr>\n      <th>10</th>\n      <td>11</td>\n      <td>False</td>\n      <td>0.26</td>\n      <td>False</td>\n    </tr>\n    <tr>\n      <th>11</th>\n      <td>12</td>\n      <td>True</td>\n      <td>0.54</td>\n      <td>True</td>\n    </tr>\n    <tr>\n      <th>12</th>\n      <td>13</td>\n      <td>True</td>\n      <td>0.41</td>\n      <td>False</td>\n    </tr>\n    <tr>\n      <th>13</th>\n      <td>14</td>\n      <td>True</td>\n      <td>0.89</td>\n      <td>True</td>\n    </tr>\n    <tr>\n      <th>14</th>\n      <td>15</td>\n      <td>False</td>\n      <td>0.59</td>\n      <td>True</td>\n    </tr>\n    <tr>\n      <th>15</th>\n      <td>16</td>\n      <td>True</td>\n      <td>0.27</td>\n      <td>False</td>\n    </tr>\n    <tr>\n      <th>16</th>\n      <td>17</td>\n      <td>True</td>\n      <td>0.87</td>\n      <td>True</td>\n    </tr>\n    <tr>\n      <th>17</th>\n      <td>18</td>\n      <td>False</td>\n      <td>0.35</td>\n      <td>False</td>\n    </tr>\n    <tr>\n      <th>18</th>\n      <td>19</td>\n      <td>False</td>\n      <td>0.36</td>\n      <td>False</td>\n    </tr>\n    <tr>\n      <th>19</th>\n      <td>20</td>\n      <td>False</td>\n      <td>0.89</td>\n      <td>True</td>\n    </tr>\n    <tr>\n      <th>20</th>\n      <td>21</td>\n      <td>False</td>\n      <td>0.03</td>\n      <td>False</td>\n    </tr>\n    <tr>\n      <th>21</th>\n      <td>22</td>\n      <td>True</td>\n      <td>0.81</td>\n      <td>True</td>\n    </tr>\n    <tr>\n      <th>22</th>\n      <td>23</td>\n      <td>False</td>\n      <td>0.72</td>\n      <td>True</td>\n    </tr>\n    <tr>\n      <th>23</th>\n      <td>24</td>\n      <td>False</td>\n      <td>0.68</td>\n      <td>True</td>\n    </tr>\n    <tr>\n      <th>24</th>\n      <td>25</td>\n      <td>True</td>\n      <td>0.71</td>\n      <td>True</td>\n    </tr>\n    <tr>\n      <th>25</th>\n      <td>26</td>\n      <td>True</td>\n      <td>0.63</td>\n      <td>True</td>\n    </tr>\n    <tr>\n      <th>26</th>\n      <td>27</td>\n      <td>True</td>\n      <td>0.48</td>\n      <td>False</td>\n    </tr>\n    <tr>\n      <th>27</th>\n      <td>28</td>\n      <td>False</td>\n      <td>0.61</td>\n      <td>True</td>\n    </tr>\n    <tr>\n      <th>28</th>\n      <td>29</td>\n      <td>True</td>\n      <td>0.68</td>\n      <td>True</td>\n    </tr>\n    <tr>\n      <th>29</th>\n      <td>30</td>\n      <td>False</td>\n      <td>0.14</td>\n      <td>False</td>\n    </tr>\n  </tbody>\n</table>\n</div>",
            "text/plain": "    ID  Predicted  Score  Actual\n0    1      False   0.46   False\n1    2      False   0.14   False\n2    3      False   0.48   False\n3    4       True   0.91    True\n4    5      False   0.24   False\n5    6       True   0.79    True\n6    7      False   0.17   False\n7    8      False   0.11   False\n8    9      False   0.54    True\n9   10       True   0.32   False\n10  11      False   0.26   False\n11  12       True   0.54    True\n12  13       True   0.41   False\n13  14       True   0.89    True\n14  15      False   0.59    True\n15  16       True   0.27   False\n16  17       True   0.87    True\n17  18      False   0.35   False\n18  19      False   0.36   False\n19  20      False   0.89    True\n20  21      False   0.03   False\n21  22       True   0.81    True\n22  23      False   0.72    True\n23  24      False   0.68    True\n24  25       True   0.71    True\n25  26       True   0.63    True\n26  27       True   0.48   False\n27  28      False   0.61    True\n28  29       True   0.68    True\n29  30      False   0.14   False"
          },
          "metadata": {}
        }
      ]
    },
    {
      "metadata": {},
      "cell_type": "markdown",
      "source": "Create confusion matrix for **Actual** vs **Predicted** results"
    },
    {
      "metadata": {
        "trusted": true
      },
      "cell_type": "code",
      "source": "confusion_matrix = pd.crosstab(df_new['Actual'], df_new['Predicted'], rownames=['Actual'], colnames=['Predicted'])\nconfusion_matrix",
      "execution_count": 7,
      "outputs": [
        {
          "output_type": "execute_result",
          "execution_count": 7,
          "data": {
            "text/html": "<div>\n<style scoped>\n    .dataframe tbody tr th:only-of-type {\n        vertical-align: middle;\n    }\n\n    .dataframe tbody tr th {\n        vertical-align: top;\n    }\n\n    .dataframe thead th {\n        text-align: right;\n    }\n</style>\n<table border=\"1\" class=\"dataframe\">\n  <thead>\n    <tr style=\"text-align: right;\">\n      <th>Predicted</th>\n      <th>False</th>\n      <th>True</th>\n    </tr>\n    <tr>\n      <th>Actual</th>\n      <th></th>\n      <th></th>\n    </tr>\n  </thead>\n  <tbody>\n    <tr>\n      <th>False</th>\n      <td>11</td>\n      <td>4</td>\n    </tr>\n    <tr>\n      <th>True</th>\n      <td>6</td>\n      <td>9</td>\n    </tr>\n  </tbody>\n</table>\n</div>",
            "text/plain": "Predicted  False  True \nActual                 \nFalse         11      4\nTrue           6      9"
          },
          "metadata": {}
        }
      ]
    },
    {
      "metadata": {},
      "cell_type": "markdown",
      "source": "## Part B\nIn this part we have to calculate following 5 metrics in *df_metric* dataframe:<br>\n- Error Rate\n- Precision\n- Recall\n- F1 Score\n- TNR\n- FPR"
    },
    {
      "metadata": {},
      "cell_type": "markdown",
      "source": "**Error Rate**"
    },
    {
      "metadata": {
        "trusted": true
      },
      "cell_type": "code",
      "source": "error_rate = (confusion_matrix[0][1]+confusion_matrix[1][0])/(confusion_matrix.values.sum())\nerror_rate",
      "execution_count": 8,
      "outputs": [
        {
          "output_type": "execute_result",
          "execution_count": 8,
          "data": {
            "text/plain": "0.3333333333333333"
          },
          "metadata": {}
        }
      ]
    },
    {
      "metadata": {},
      "cell_type": "markdown",
      "source": "**Precision**"
    },
    {
      "metadata": {
        "trusted": true
      },
      "cell_type": "code",
      "source": "precision = (confusion_matrix[1][1])/ (confusion_matrix[1].values.sum())\nprecision",
      "execution_count": 9,
      "outputs": [
        {
          "output_type": "execute_result",
          "execution_count": 9,
          "data": {
            "text/plain": "0.6923076923076923"
          },
          "metadata": {}
        }
      ]
    },
    {
      "metadata": {},
      "cell_type": "markdown",
      "source": "**Recall a.k.a TPR**"
    },
    {
      "metadata": {
        "trusted": true
      },
      "cell_type": "code",
      "source": "recall = (confusion_matrix[1][1]) / (confusion_matrix.iloc[1].values.sum())\nrecall",
      "execution_count": 10,
      "outputs": [
        {
          "output_type": "execute_result",
          "execution_count": 10,
          "data": {
            "text/plain": "0.6"
          },
          "metadata": {}
        }
      ]
    },
    {
      "metadata": {},
      "cell_type": "markdown",
      "source": "**F1 Score**"
    },
    {
      "metadata": {
        "trusted": true
      },
      "cell_type": "code",
      "source": "f1_score = (2 * precision * recall) / (precision + recall)\nf1_score",
      "execution_count": 11,
      "outputs": [
        {
          "output_type": "execute_result",
          "execution_count": 11,
          "data": {
            "text/plain": "0.6428571428571429"
          },
          "metadata": {}
        }
      ]
    },
    {
      "metadata": {},
      "cell_type": "markdown",
      "source": "**TNR**"
    },
    {
      "metadata": {
        "trusted": true
      },
      "cell_type": "code",
      "source": "tnr = confusion_matrix[0][0] / (confusion_matrix.iloc[0].values.sum())\ntnr",
      "execution_count": 12,
      "outputs": [
        {
          "output_type": "execute_result",
          "execution_count": 12,
          "data": {
            "text/plain": "0.7333333333333333"
          },
          "metadata": {}
        }
      ]
    },
    {
      "metadata": {},
      "cell_type": "markdown",
      "source": "**FPR**"
    },
    {
      "metadata": {
        "trusted": true
      },
      "cell_type": "code",
      "source": "fpr = 1 - tnr\nfpr",
      "execution_count": 13,
      "outputs": [
        {
          "output_type": "execute_result",
          "execution_count": 13,
          "data": {
            "text/plain": "0.2666666666666667"
          },
          "metadata": {}
        }
      ]
    },
    {
      "metadata": {
        "trusted": true
      },
      "cell_type": "code",
      "source": "df_metrics = pd.DataFrame(columns=['Metrics', 'Value'])",
      "execution_count": 14,
      "outputs": []
    },
    {
      "metadata": {
        "trusted": true
      },
      "cell_type": "code",
      "source": "df_metrics = df_metrics.append({'Metrics':'Error Rate', 'Value':error_rate.round(3)}, ignore_index=True)\ndf_metrics = df_metrics.append({'Metrics':'Precision', 'Value':precision.round(3)}, ignore_index=True)\ndf_metrics = df_metrics.append({'Metrics':'Recall', 'Value':recall.round(3)}, ignore_index=True)\ndf_metrics = df_metrics.append({'Metrics':'F1 Score', 'Value':f1_score.round(3)}, ignore_index=True)\ndf_metrics = df_metrics.append({'Metrics':'FPR', 'Value':fpr.round(3)}, ignore_index=True)",
      "execution_count": 15,
      "outputs": []
    },
    {
      "metadata": {
        "trusted": true
      },
      "cell_type": "code",
      "source": "df_metrics",
      "execution_count": 16,
      "outputs": [
        {
          "output_type": "execute_result",
          "execution_count": 16,
          "data": {
            "text/html": "<div>\n<style scoped>\n    .dataframe tbody tr th:only-of-type {\n        vertical-align: middle;\n    }\n\n    .dataframe tbody tr th {\n        vertical-align: top;\n    }\n\n    .dataframe thead th {\n        text-align: right;\n    }\n</style>\n<table border=\"1\" class=\"dataframe\">\n  <thead>\n    <tr style=\"text-align: right;\">\n      <th></th>\n      <th>Metrics</th>\n      <th>Value</th>\n    </tr>\n  </thead>\n  <tbody>\n    <tr>\n      <th>0</th>\n      <td>Error Rate</td>\n      <td>0.333</td>\n    </tr>\n    <tr>\n      <th>1</th>\n      <td>Precision</td>\n      <td>0.692</td>\n    </tr>\n    <tr>\n      <th>2</th>\n      <td>Recall</td>\n      <td>0.600</td>\n    </tr>\n    <tr>\n      <th>3</th>\n      <td>F1 Score</td>\n      <td>0.643</td>\n    </tr>\n    <tr>\n      <th>4</th>\n      <td>FPR</td>\n      <td>0.267</td>\n    </tr>\n  </tbody>\n</table>\n</div>",
            "text/plain": "      Metrics  Value\n0  Error Rate  0.333\n1   Precision  0.692\n2      Recall  0.600\n3    F1 Score  0.643\n4         FPR  0.267"
          },
          "metadata": {}
        }
      ]
    },
    {
      "metadata": {},
      "cell_type": "markdown",
      "source": "# Part C\nIn this part we are varying the score threshold from 0.1 to 0.9 (both inclusive) with steps of 0.1 and compute **TPR** and **FPR** values"
    },
    {
      "metadata": {
        "trusted": true
      },
      "cell_type": "code",
      "source": "df_roc = pd.DataFrame(columns=['Threshold', 'TPR', 'FPR'])\ndf_roc",
      "execution_count": 17,
      "outputs": [
        {
          "output_type": "execute_result",
          "execution_count": 17,
          "data": {
            "text/html": "<div>\n<style scoped>\n    .dataframe tbody tr th:only-of-type {\n        vertical-align: middle;\n    }\n\n    .dataframe tbody tr th {\n        vertical-align: top;\n    }\n\n    .dataframe thead th {\n        text-align: right;\n    }\n</style>\n<table border=\"1\" class=\"dataframe\">\n  <thead>\n    <tr style=\"text-align: right;\">\n      <th></th>\n      <th>Threshold</th>\n      <th>TPR</th>\n      <th>FPR</th>\n    </tr>\n  </thead>\n  <tbody>\n  </tbody>\n</table>\n</div>",
            "text/plain": "Empty DataFrame\nColumns: [Threshold, TPR, FPR]\nIndex: []"
          },
          "metadata": {}
        }
      ]
    },
    {
      "metadata": {},
      "cell_type": "markdown",
      "source": "We then append the calculated **TPR** and **FPR** values to `df_roc` dataframe."
    },
    {
      "metadata": {
        "trusted": true
      },
      "cell_type": "code",
      "source": "import numpy as np\n\ndf_two = df.copy()\ndf_two = df_two.rename(columns={'Target':'Predicted'})\n\n# Calculate FPR & TPR at all thresholds from 0.1 to 0.9 (inclusive), with step increment of 0.1\nfor threshold in np.arange(0.1, 1, 0.1).round(2):\n    df_temp = df_two.copy()\n    df_temp['Actual'] = df_temp[['Score']] >= threshold\n    print(\"Threshold: \", threshold)\n    print(\"------Confusion Matrix-------\")\n    confusion_matrix = pd.crosstab(df_temp['Actual'], df_temp['Predicted'], rownames=['Actual'], colnames=['Predicted'])\n    print(confusion_matrix, \"\\n=============================\")\n    recall = ((confusion_matrix[1][1]) / (confusion_matrix.iloc[1].values.sum())).round(3)\n    tnr = confusion_matrix[0][0] / (confusion_matrix.iloc[0].values.sum())\n    fpr = (1 - tnr).round(3)\n    df_roc = df_roc.append({'Threshold':threshold, 'TPR':recall, 'FPR':fpr}, ignore_index=True)",
      "execution_count": 18,
      "outputs": [
        {
          "output_type": "stream",
          "text": "Threshold:  0.1\n------Confusion Matrix-------\nPredicted  False  True \nActual                 \nFalse          1      0\nTrue          16     13 \n=============================\nThreshold:  0.2\n------Confusion Matrix-------\nPredicted  False  True \nActual                 \nFalse          5      0\nTrue          12     13 \n=============================\nThreshold:  0.3\n------Confusion Matrix-------\nPredicted  False  True \nActual                 \nFalse          7      1\nTrue          10     12 \n=============================\nThreshold:  0.4\n------Confusion Matrix-------\nPredicted  False  True \nActual                 \nFalse          9      2\nTrue           8     11 \n=============================\nThreshold:  0.5\n------Confusion Matrix-------\nPredicted  False  True \nActual                 \nFalse         11      4\nTrue           6      9 \n=============================\nThreshold:  0.6\n------Confusion Matrix-------\nPredicted  False  True \nActual                 \nFalse         13      5\nTrue           4      8 \n=============================\nThreshold:  0.7\n------Confusion Matrix-------\nPredicted  False  True \nActual                 \nFalse         15      7\nTrue           2      6 \n=============================\nThreshold:  0.8\n------Confusion Matrix-------\nPredicted  False  True \nActual                 \nFalse         16      9\nTrue           1      4 \n=============================\nThreshold:  0.9\n------Confusion Matrix-------\nPredicted  False  True \nActual                 \nFalse         17     12\nTrue           0      1 \n=============================\n",
          "name": "stdout"
        }
      ]
    },
    {
      "metadata": {},
      "cell_type": "markdown",
      "source": "Here is what `df_roc` dataframe looks like"
    },
    {
      "metadata": {
        "trusted": true
      },
      "cell_type": "code",
      "source": "df_roc",
      "execution_count": 19,
      "outputs": [
        {
          "output_type": "execute_result",
          "execution_count": 19,
          "data": {
            "text/html": "<div>\n<style scoped>\n    .dataframe tbody tr th:only-of-type {\n        vertical-align: middle;\n    }\n\n    .dataframe tbody tr th {\n        vertical-align: top;\n    }\n\n    .dataframe thead th {\n        text-align: right;\n    }\n</style>\n<table border=\"1\" class=\"dataframe\">\n  <thead>\n    <tr style=\"text-align: right;\">\n      <th></th>\n      <th>Threshold</th>\n      <th>TPR</th>\n      <th>FPR</th>\n    </tr>\n  </thead>\n  <tbody>\n    <tr>\n      <th>0</th>\n      <td>0.1</td>\n      <td>0.448</td>\n      <td>0.000</td>\n    </tr>\n    <tr>\n      <th>1</th>\n      <td>0.2</td>\n      <td>0.520</td>\n      <td>0.000</td>\n    </tr>\n    <tr>\n      <th>2</th>\n      <td>0.3</td>\n      <td>0.545</td>\n      <td>0.125</td>\n    </tr>\n    <tr>\n      <th>3</th>\n      <td>0.4</td>\n      <td>0.579</td>\n      <td>0.182</td>\n    </tr>\n    <tr>\n      <th>4</th>\n      <td>0.5</td>\n      <td>0.600</td>\n      <td>0.267</td>\n    </tr>\n    <tr>\n      <th>5</th>\n      <td>0.6</td>\n      <td>0.667</td>\n      <td>0.278</td>\n    </tr>\n    <tr>\n      <th>6</th>\n      <td>0.7</td>\n      <td>0.750</td>\n      <td>0.318</td>\n    </tr>\n    <tr>\n      <th>7</th>\n      <td>0.8</td>\n      <td>0.800</td>\n      <td>0.360</td>\n    </tr>\n    <tr>\n      <th>8</th>\n      <td>0.9</td>\n      <td>1.000</td>\n      <td>0.414</td>\n    </tr>\n  </tbody>\n</table>\n</div>",
            "text/plain": "   Threshold    TPR    FPR\n0        0.1  0.448  0.000\n1        0.2  0.520  0.000\n2        0.3  0.545  0.125\n3        0.4  0.579  0.182\n4        0.5  0.600  0.267\n5        0.6  0.667  0.278\n6        0.7  0.750  0.318\n7        0.8  0.800  0.360\n8        0.9  1.000  0.414"
          },
          "metadata": {}
        }
      ]
    },
    {
      "metadata": {
        "trusted": true
      },
      "cell_type": "markdown",
      "source": "## Part D"
    },
    {
      "metadata": {},
      "cell_type": "markdown",
      "source": "Using the above `df_roc`, we now display an **ROC Curve** with appropriate axes labels and a title."
    },
    {
      "metadata": {
        "trusted": true
      },
      "cell_type": "code",
      "source": "#!pip install vega vega_datasets\n#!pip install --upgrade altair",
      "execution_count": 20,
      "outputs": []
    },
    {
      "metadata": {
        "trusted": true,
        "scrolled": true
      },
      "cell_type": "code",
      "source": "# Code referenced from https://www.featureranking.com/tutorials/machine-learning-tutorials/sk-part-4-model-evaluation/\n# !pip install vega vega_datasets\n# !pip install --upgrade altair\n# use alt.renderers.enable('html') if running locally\n\nimport altair as alt\nalt.renderers.enable('notebook')\n\nbase = alt.Chart(df_roc, \n                 title='ROC Curve of df_roc'\n                ).properties(width=300)\n\nroc_curve = base.mark_line(point=True).encode(\n    alt.X('FPR', title='False Positive Rate (FPR)',  sort=None),\n    alt.Y('TPR', title='True Positive Rate (TPR) (a.k.a Recall)'),\n)\n\nroc_rule = base.mark_line(color='green').encode(\n    x='FPR',\n    y='FPR',\n    size=alt.value(2)\n)\n\n(roc_curve + roc_rule).interactive()",
      "execution_count": 21,
      "outputs": [
        {
          "output_type": "display_data",
          "data": {
            "application/javascript": "const spec = {\"config\": {\"view\": {\"continuousWidth\": 400, \"continuousHeight\": 300}}, \"layer\": [{\"mark\": {\"type\": \"line\", \"point\": true}, \"encoding\": {\"x\": {\"type\": \"quantitative\", \"field\": \"FPR\", \"sort\": null, \"title\": \"False Positive Rate (FPR)\"}, \"y\": {\"type\": \"quantitative\", \"field\": \"TPR\", \"title\": \"True Positive Rate (TPR) (a.k.a Recall)\"}}, \"selection\": {\"selector001\": {\"type\": \"interval\", \"bind\": \"scales\", \"encodings\": [\"x\", \"y\"]}}, \"title\": \"ROC Curve of df_roc\", \"width\": 300}, {\"mark\": {\"type\": \"line\", \"color\": \"green\"}, \"encoding\": {\"size\": {\"value\": 2}, \"x\": {\"type\": \"quantitative\", \"field\": \"FPR\"}, \"y\": {\"type\": \"quantitative\", \"field\": \"FPR\"}}, \"title\": \"ROC Curve of df_roc\", \"width\": 300}], \"data\": {\"name\": \"data-0fc7988f7b038aa9ddbde8457d8e2438\"}, \"$schema\": \"https://vega.github.io/schema/vega-lite/v4.8.1.json\", \"datasets\": {\"data-0fc7988f7b038aa9ddbde8457d8e2438\": [{\"Threshold\": 0.1, \"TPR\": 0.448, \"FPR\": 0.0}, {\"Threshold\": 0.2, \"TPR\": 0.52, \"FPR\": 0.0}, {\"Threshold\": 0.3, \"TPR\": 0.545, \"FPR\": 0.125}, {\"Threshold\": 0.4, \"TPR\": 0.579, \"FPR\": 0.182}, {\"Threshold\": 0.5, \"TPR\": 0.6, \"FPR\": 0.267}, {\"Threshold\": 0.6, \"TPR\": 0.667, \"FPR\": 0.278}, {\"Threshold\": 0.7, \"TPR\": 0.75, \"FPR\": 0.318}, {\"Threshold\": 0.8, \"TPR\": 0.8, \"FPR\": 0.36}, {\"Threshold\": 0.9, \"TPR\": 1.0, \"FPR\": 0.414}]}};\nconst opt = {};\nconst type = \"vega-lite\";\nconst id = \"dce0f46f-1fde-4bb3-a94f-89cdf90c5574\";\n\nconst output_area = this;\n\nrequire([\"nbextensions/jupyter-vega/index\"], function(vega) {\n  const target = document.createElement(\"div\");\n  target.id = id;\n  target.className = \"vega-embed\";\n\n  const style = document.createElement(\"style\");\n  style.textContent = [\n    \".vega-embed .error p {\",\n    \"  color: firebrick;\",\n    \"  font-size: 14px;\",\n    \"}\",\n  ].join(\"\\\\n\");\n\n  // element is a jQuery wrapped DOM element inside the output area\n  // see http://ipython.readthedocs.io/en/stable/api/generated/\\\n  // IPython.display.html#IPython.display.Javascript.__init__\n  element[0].appendChild(target);\n  element[0].appendChild(style);\n\n  vega.render(\"#\" + id, spec, type, opt, output_area);\n}, function (err) {\n  if (err.requireType !== \"scripterror\") {\n    throw(err);\n  }\n});\n",
            "text/plain": "<vega.vegalite.VegaLite at 0x7f183133ecf8>"
          },
          "metadata": {
            "jupyter-vega": "#dce0f46f-1fde-4bb3-a94f-89cdf90c5574"
          }
        },
        {
          "output_type": "execute_result",
          "execution_count": 21,
          "data": {
            "text/plain": ""
          },
          "metadata": {}
        },
        {
          "data": {
            "image/png": "[encoded data removed]"
          },
          "metadata": {
            "jupyter-vega": "#dce0f46f-1fde-4bb3-a94f-89cdf90c5574"
          },
          "output_type": "display_data"
        }
      ]
    },
    {
      "metadata": {},
      "cell_type": "markdown",
      "source": "Above is the **ROC Curve** for our dataset at all thresholds from 0.1 to 0.9 (both inclusive) at step interval of 0.1"
    },
    {
      "metadata": {},
      "cell_type": "markdown",
      "source": "## Question 2 wrap-up"
    },
    {
      "metadata": {
        "trusted": true
      },
      "cell_type": "code",
      "source": "df_metrics",
      "execution_count": 22,
      "outputs": [
        {
          "output_type": "execute_result",
          "execution_count": 22,
          "data": {
            "text/html": "<div>\n<style scoped>\n    .dataframe tbody tr th:only-of-type {\n        vertical-align: middle;\n    }\n\n    .dataframe tbody tr th {\n        vertical-align: top;\n    }\n\n    .dataframe thead th {\n        text-align: right;\n    }\n</style>\n<table border=\"1\" class=\"dataframe\">\n  <thead>\n    <tr style=\"text-align: right;\">\n      <th></th>\n      <th>Metrics</th>\n      <th>Value</th>\n    </tr>\n  </thead>\n  <tbody>\n    <tr>\n      <th>0</th>\n      <td>Error Rate</td>\n      <td>0.333</td>\n    </tr>\n    <tr>\n      <th>1</th>\n      <td>Precision</td>\n      <td>0.692</td>\n    </tr>\n    <tr>\n      <th>2</th>\n      <td>Recall</td>\n      <td>0.600</td>\n    </tr>\n    <tr>\n      <th>3</th>\n      <td>F1 Score</td>\n      <td>0.643</td>\n    </tr>\n    <tr>\n      <th>4</th>\n      <td>FPR</td>\n      <td>0.267</td>\n    </tr>\n  </tbody>\n</table>\n</div>",
            "text/plain": "      Metrics  Value\n0  Error Rate  0.333\n1   Precision  0.692\n2      Recall  0.600\n3    F1 Score  0.643\n4         FPR  0.267"
          },
          "metadata": {}
        }
      ]
    },
    {
      "metadata": {
        "trusted": true
      },
      "cell_type": "code",
      "source": "df_roc",
      "execution_count": 23,
      "outputs": [
        {
          "output_type": "execute_result",
          "execution_count": 23,
          "data": {
            "text/html": "<div>\n<style scoped>\n    .dataframe tbody tr th:only-of-type {\n        vertical-align: middle;\n    }\n\n    .dataframe tbody tr th {\n        vertical-align: top;\n    }\n\n    .dataframe thead th {\n        text-align: right;\n    }\n</style>\n<table border=\"1\" class=\"dataframe\">\n  <thead>\n    <tr style=\"text-align: right;\">\n      <th></th>\n      <th>Threshold</th>\n      <th>TPR</th>\n      <th>FPR</th>\n    </tr>\n  </thead>\n  <tbody>\n    <tr>\n      <th>0</th>\n      <td>0.1</td>\n      <td>0.448</td>\n      <td>0.000</td>\n    </tr>\n    <tr>\n      <th>1</th>\n      <td>0.2</td>\n      <td>0.520</td>\n      <td>0.000</td>\n    </tr>\n    <tr>\n      <th>2</th>\n      <td>0.3</td>\n      <td>0.545</td>\n      <td>0.125</td>\n    </tr>\n    <tr>\n      <th>3</th>\n      <td>0.4</td>\n      <td>0.579</td>\n      <td>0.182</td>\n    </tr>\n    <tr>\n      <th>4</th>\n      <td>0.5</td>\n      <td>0.600</td>\n      <td>0.267</td>\n    </tr>\n    <tr>\n      <th>5</th>\n      <td>0.6</td>\n      <td>0.667</td>\n      <td>0.278</td>\n    </tr>\n    <tr>\n      <th>6</th>\n      <td>0.7</td>\n      <td>0.750</td>\n      <td>0.318</td>\n    </tr>\n    <tr>\n      <th>7</th>\n      <td>0.8</td>\n      <td>0.800</td>\n      <td>0.360</td>\n    </tr>\n    <tr>\n      <th>8</th>\n      <td>0.9</td>\n      <td>1.000</td>\n      <td>0.414</td>\n    </tr>\n  </tbody>\n</table>\n</div>",
            "text/plain": "   Threshold    TPR    FPR\n0        0.1  0.448  0.000\n1        0.2  0.520  0.000\n2        0.3  0.545  0.125\n3        0.4  0.579  0.182\n4        0.5  0.600  0.267\n5        0.6  0.667  0.278\n6        0.7  0.750  0.318\n7        0.8  0.800  0.360\n8        0.9  1.000  0.414"
          },
          "metadata": {}
        }
      ]
    }
  ],
  "metadata": {
    "kernelspec": {
      "name": "python36",
      "display_name": "Python 3.6",
      "language": "python"
    },
    "language_info": {
      "mimetype": "text/x-python",
      "nbconvert_exporter": "python",
      "name": "python",
      "pygments_lexer": "ipython3",
      "version": "3.6.6",
      "file_extension": ".py",
      "codemirror_mode": {
        "version": 3,
        "name": "ipython"
      }
    }
  },
  "nbformat": 4,
  "nbformat_minor": 2
}