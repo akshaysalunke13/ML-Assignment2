{
  "cells": [
    {
      "metadata": {},
      "cell_type": "markdown",
      "source": "# Question 1"
    },
    {
      "metadata": {
        "trusted": true
      },
      "cell_type": "code",
      "source": "import pandas as pd\nimport numpy as np\nimport warnings\nwarnings.filterwarnings(\"ignore\")\n\n# name of target column in our dataset\nTARGET = \"Annual_Income\"\ndf = pd.read_csv('A2_Q1.csv')\ndf.head()",
      "execution_count": 1,
      "outputs": [
        {
          "output_type": "execute_result",
          "execution_count": 1,
          "data": {
            "text/html": "<div>\n<style scoped>\n    .dataframe tbody tr th:only-of-type {\n        vertical-align: middle;\n    }\n\n    .dataframe tbody tr th {\n        vertical-align: top;\n    }\n\n    .dataframe thead th {\n        text-align: right;\n    }\n</style>\n<table border=\"1\" class=\"dataframe\">\n  <thead>\n    <tr style=\"text-align: right;\">\n      <th></th>\n      <th>ID</th>\n      <th>Age</th>\n      <th>Education</th>\n      <th>Marital_Status</th>\n      <th>Occupation</th>\n      <th>Annual_Income</th>\n    </tr>\n  </thead>\n  <tbody>\n    <tr>\n      <th>0</th>\n      <td>1</td>\n      <td>39</td>\n      <td>bachelors</td>\n      <td>never married</td>\n      <td>professional</td>\n      <td>high</td>\n    </tr>\n    <tr>\n      <th>1</th>\n      <td>2</td>\n      <td>50</td>\n      <td>doctorate</td>\n      <td>married</td>\n      <td>professional</td>\n      <td>mid</td>\n    </tr>\n    <tr>\n      <th>2</th>\n      <td>3</td>\n      <td>18</td>\n      <td>high school</td>\n      <td>never married</td>\n      <td>agriculture</td>\n      <td>low</td>\n    </tr>\n    <tr>\n      <th>3</th>\n      <td>4</td>\n      <td>30</td>\n      <td>bachelors</td>\n      <td>married</td>\n      <td>professional</td>\n      <td>mid</td>\n    </tr>\n    <tr>\n      <th>4</th>\n      <td>5</td>\n      <td>37</td>\n      <td>high school</td>\n      <td>married</td>\n      <td>agriculture</td>\n      <td>mid</td>\n    </tr>\n  </tbody>\n</table>\n</div>",
            "text/plain": "   ID  Age    Education Marital_Status    Occupation Annual_Income\n0   1   39    bachelors  never married  professional          high\n1   2   50    doctorate        married  professional           mid\n2   3   18  high school  never married   agriculture           low\n3   4   30    bachelors        married  professional           mid\n4   5   37  high school        married   agriculture           mid"
          },
          "metadata": {}
        }
      ]
    },
    {
      "metadata": {},
      "cell_type": "markdown",
      "source": "## Part A\nCompute impurity of target feature \"Annual_Income\""
    },
    {
      "metadata": {},
      "cell_type": "markdown",
      "source": "For code resusability, we create a function to calculate and return impurity of a feature.<br>\nAccepted impurity criterions:\n- 'entropy' : Shannon's entropy\n- 'gini' : Gini Index"
    },
    {
      "metadata": {
        "trusted": true
      },
      "cell_type": "code",
      "source": "# Referenced from https://www.featureranking.com/tutorials/machine-learning-tutorials/information-gain-computation/\ndef compute_impurity(feature, impurity_criterion):\n    \"\"\"\n    This function calculates impurity of a feature.\n    Supported impurity criteria: 'entropy', 'gini'\n    input: feature (this needs to be a Pandas series)\n    output: feature impurity\n    \"\"\"\n    probs = feature.value_counts(normalize=True)\n    \n    if impurity_criterion == 'entropy':\n        impurity = -1 * np.sum(np.log2(probs) * probs)\n    elif impurity_criterion == 'gini':\n        impurity = 1 - np.sum(np.square(probs))\n    else:\n        raise ValueError('Unknown impurity criterion')\n        \n    return(round(impurity, 3))",
      "execution_count": 2,
      "outputs": []
    },
    {
      "metadata": {},
      "cell_type": "markdown",
      "source": "**We calculate impurity for target feature 'Annual_Income':**"
    },
    {
      "metadata": {},
      "cell_type": "markdown",
      "source": "- Using Gini Index:"
    },
    {
      "metadata": {
        "trusted": true
      },
      "cell_type": "code",
      "source": "compute_impurity(df[TARGET], 'gini')",
      "execution_count": 3,
      "outputs": [
        {
          "output_type": "execute_result",
          "execution_count": 3,
          "data": {
            "text/plain": "0.555"
          },
          "metadata": {}
        }
      ]
    },
    {
      "metadata": {},
      "cell_type": "markdown",
      "source": "- Using Shannon's entropy:"
    },
    {
      "metadata": {
        "trusted": true
      },
      "cell_type": "code",
      "source": "compute_impurity(df[TARGET], 'entropy')",
      "execution_count": 4,
      "outputs": [
        {
          "output_type": "execute_result",
          "execution_count": 4,
          "data": {
            "text/plain": "1.353"
          },
          "metadata": {}
        }
      ]
    },
    {
      "metadata": {},
      "cell_type": "markdown",
      "source": "## Part B\nIn this part we have to identify root node for our Decision Tree.<br>\nWe calculate **Information Gain** for different splits on all features and choose the split which gives the most **Information Gain**."
    },
    {
      "metadata": {},
      "cell_type": "markdown",
      "source": "**Now we handle the continuos \"Age\" feature **<br>\nWe first sort the input df in ascending order by Age"
    },
    {
      "metadata": {
        "trusted": true
      },
      "cell_type": "code",
      "source": "df = df.sort_values(by=['Age'])\ndf.head()",
      "execution_count": 5,
      "outputs": [
        {
          "output_type": "execute_result",
          "execution_count": 5,
          "data": {
            "text/html": "<div>\n<style scoped>\n    .dataframe tbody tr th:only-of-type {\n        vertical-align: middle;\n    }\n\n    .dataframe tbody tr th {\n        vertical-align: top;\n    }\n\n    .dataframe thead th {\n        text-align: right;\n    }\n</style>\n<table border=\"1\" class=\"dataframe\">\n  <thead>\n    <tr style=\"text-align: right;\">\n      <th></th>\n      <th>ID</th>\n      <th>Age</th>\n      <th>Education</th>\n      <th>Marital_Status</th>\n      <th>Occupation</th>\n      <th>Annual_Income</th>\n    </tr>\n  </thead>\n  <tbody>\n    <tr>\n      <th>2</th>\n      <td>3</td>\n      <td>18</td>\n      <td>high school</td>\n      <td>never married</td>\n      <td>agriculture</td>\n      <td>low</td>\n    </tr>\n    <tr>\n      <th>5</th>\n      <td>6</td>\n      <td>23</td>\n      <td>high school</td>\n      <td>never married</td>\n      <td>agriculture</td>\n      <td>low</td>\n    </tr>\n    <tr>\n      <th>12</th>\n      <td>13</td>\n      <td>23</td>\n      <td>bachelors</td>\n      <td>never married</td>\n      <td>agriculture</td>\n      <td>low</td>\n    </tr>\n    <tr>\n      <th>19</th>\n      <td>20</td>\n      <td>25</td>\n      <td>bachelors</td>\n      <td>married</td>\n      <td>transport</td>\n      <td>high</td>\n    </tr>\n    <tr>\n      <th>13</th>\n      <td>14</td>\n      <td>25</td>\n      <td>high school</td>\n      <td>married</td>\n      <td>professional</td>\n      <td>high</td>\n    </tr>\n  </tbody>\n</table>\n</div>",
            "text/plain": "    ID  Age    Education Marital_Status    Occupation Annual_Income\n2    3   18  high school  never married   agriculture           low\n5    6   23  high school  never married   agriculture           low\n12  13   23    bachelors  never married   agriculture           low\n19  20   25    bachelors        married     transport          high\n13  14   25  high school        married  professional          high"
          },
          "metadata": {}
        }
      ]
    },
    {
      "metadata": {},
      "cell_type": "markdown",
      "source": "As we can see above, our df is sorted by Age."
    },
    {
      "metadata": {},
      "cell_type": "markdown",
      "source": "We now define a function to calculate Information Gain for all features of our dataframe,"
    },
    {
      "metadata": {
        "trusted": true
      },
      "cell_type": "code",
      "source": "# Referenced from https://www.featureranking.com/tutorials/machine-learning-tutorials/information-gain-computation/\ndef comp_feature_information_gain(df, target, descriptive_feature, split_criterion):\n    \"\"\"\n    This function calculates information gain for splitting on \n    a particular descriptive feature for a given dataset\n    and a given impurity criteria.\n    Supported split criterion: 'entropy', 'gini'\n    \"\"\"\n    \n    print('target feature:', target)\n    print('descriptive_feature:', descriptive_feature)\n    print('split criterion:', split_criterion)\n            \n    target_entropy = compute_impurity(df[target], split_criterion)\n\n    # we define two lists below:\n    # entropy_list to store the entropy of each partition\n    # weight_list to store the relative number of observations in each partition\n    entropy_list = list()\n    weight_list = list()\n    \n    # loop over each level of the descriptive feature\n    # to partition the dataset with respect to that level\n    # and compute the entropy and the weight of the level's partition\n    for level in df[descriptive_feature].unique():\n        df_feature_level = df[df[descriptive_feature] == level]\n        entropy_level = compute_impurity(df_feature_level[target], split_criterion)\n        entropy_list.append(round(entropy_level, 3))\n        weight_level = len(df_feature_level) / len(df)\n        weight_list.append(round(weight_level, 3))\n\n    print('impurity of partitions:', entropy_list)\n    print('weights of partitions:', weight_list)\n\n    feature_remaining_impurity = np.sum(np.array(entropy_list) * np.array(weight_list))\n    print('remaining impurity:', feature_remaining_impurity)\n    \n    information_gain = target_entropy - feature_remaining_impurity\n    print('information gain:', information_gain)\n    \n    print('====================')\n\n    return(information_gain, feature_remaining_impurity)",
      "execution_count": 6,
      "outputs": []
    },
    {
      "metadata": {},
      "cell_type": "markdown",
      "source": "We now have to find Age thresholds, to split our dataframe in."
    },
    {
      "metadata": {
        "trusted": true
      },
      "cell_type": "code",
      "source": "thresholds = list()",
      "execution_count": 7,
      "outputs": []
    },
    {
      "metadata": {
        "trusted": true,
        "scrolled": false
      },
      "cell_type": "code",
      "source": "for i in range(1, df['Age'].count()):\n    if df.iloc[i][TARGET] != df.iloc[i-1][TARGET]:\n        \n        # If the adjacent TARGET instances have different classifications, \n        # we store the mean age for this threshold in a list.\n        \n        t = ((df.iloc[i]['Age']+df.iloc[i-1]['Age'])/2)\n        print(\"Threshold: >=\", t)\n        thresholds.append(t)",
      "execution_count": 8,
      "outputs": [
        {
          "output_type": "stream",
          "text": "Threshold: >= 24.0\nThreshold: >= 27.0\nThreshold: >= 38.0\nThreshold: >= 42.0\n",
          "name": "stdout"
        }
      ]
    },
    {
      "metadata": {},
      "cell_type": "markdown",
      "source": "Above are the possible threshold points for Age feature, where we can possibly split our dataframe.<br><br>\nNow we define our new **df_splits** dataframe"
    },
    {
      "metadata": {
        "trusted": true
      },
      "cell_type": "code",
      "source": "df_splits = pd.DataFrame(columns=['Split', 'Remainder', 'Information_Gain', 'Is_Optimal'])",
      "execution_count": 9,
      "outputs": []
    },
    {
      "metadata": {},
      "cell_type": "markdown",
      "source": "We now calculate **Information Gain** of each subset, for all splits at each threshold<br>\nWe then add a 'Age_T' column to dataframe which has boolean values at threshold 'T'. For example, if threshold T >= 24, then column 'Age_24' will be False for all ages < 24 and True for all ages >= 24<br>\nWe then append all the data to df_splits dataframe"
    },
    {
      "metadata": {
        "trusted": true
      },
      "cell_type": "code",
      "source": "split_criterion = 'gini'\nfor t in thresholds:\n    df_new = df.copy()\n    col_name = \"Age_\" + str(int(t))\n    df_new[col_name] = df_new[['Age']] >= t\n    print(\"THRESHOLD: >=\", t)\n    feature_info_gain, remaining_impurity = comp_feature_information_gain(df_new, TARGET, col_name, split_criterion)\n    df_splits = df_splits.append({'Split':col_name, 'Remainder':remaining_impurity, 'Information_Gain':feature_info_gain}, ignore_index=True)",
      "execution_count": 10,
      "outputs": [
        {
          "output_type": "stream",
          "text": "THRESHOLD: >= 24.0\ntarget feature: Annual_Income\ndescriptive_feature: Age_24\nsplit criterion: gini\nimpurity of partitions: [0.0, 0.415]\nweights of partitions: [0.15, 0.85]\nremaining impurity: 0.35274999999999995\ninformation gain: 0.2022500000000001\n====================\nTHRESHOLD: >= 27.0\ntarget feature: Annual_Income\ndescriptive_feature: Age_27\nsplit criterion: gini\nimpurity of partitions: [0.48, 0.32]\nweights of partitions: [0.25, 0.75]\nremaining impurity: 0.36\ninformation gain: 0.19500000000000006\n====================\nTHRESHOLD: >= 38.0\ntarget feature: Annual_Income\ndescriptive_feature: Age_38\nsplit criterion: gini\nimpurity of partitions: [0.569, 0.469]\nweights of partitions: [0.6, 0.4]\nremaining impurity: 0.5289999999999999\ninformation gain: 0.026000000000000134\n====================\nTHRESHOLD: >= 42.0\ntarget feature: Annual_Income\ndescriptive_feature: Age_42\nsplit criterion: gini\nimpurity of partitions: [0.631, 0.0]\nweights of partitions: [0.75, 0.25]\nremaining impurity: 0.47325\ninformation gain: 0.08175000000000004\n====================\n",
          "name": "stdout"
        }
      ]
    },
    {
      "metadata": {},
      "cell_type": "markdown",
      "source": "ID Feature is redundant, and hence is dropped.<br>\nWe have translated Age feature to different columns by thresholds, and added it to **df_splits** and hence Age column can be dropped."
    },
    {
      "metadata": {
        "trusted": true
      },
      "cell_type": "code",
      "source": "df_new = df.copy()\ndf_new = df_new.drop(columns = ['ID', 'Age'])",
      "execution_count": 11,
      "outputs": []
    },
    {
      "metadata": {
        "trusted": true,
        "scrolled": true
      },
      "cell_type": "code",
      "source": "df_new.head()",
      "execution_count": 12,
      "outputs": [
        {
          "output_type": "execute_result",
          "execution_count": 12,
          "data": {
            "text/html": "<div>\n<style scoped>\n    .dataframe tbody tr th:only-of-type {\n        vertical-align: middle;\n    }\n\n    .dataframe tbody tr th {\n        vertical-align: top;\n    }\n\n    .dataframe thead th {\n        text-align: right;\n    }\n</style>\n<table border=\"1\" class=\"dataframe\">\n  <thead>\n    <tr style=\"text-align: right;\">\n      <th></th>\n      <th>Education</th>\n      <th>Marital_Status</th>\n      <th>Occupation</th>\n      <th>Annual_Income</th>\n    </tr>\n  </thead>\n  <tbody>\n    <tr>\n      <th>2</th>\n      <td>high school</td>\n      <td>never married</td>\n      <td>agriculture</td>\n      <td>low</td>\n    </tr>\n    <tr>\n      <th>5</th>\n      <td>high school</td>\n      <td>never married</td>\n      <td>agriculture</td>\n      <td>low</td>\n    </tr>\n    <tr>\n      <th>12</th>\n      <td>bachelors</td>\n      <td>never married</td>\n      <td>agriculture</td>\n      <td>low</td>\n    </tr>\n    <tr>\n      <th>19</th>\n      <td>bachelors</td>\n      <td>married</td>\n      <td>transport</td>\n      <td>high</td>\n    </tr>\n    <tr>\n      <th>13</th>\n      <td>high school</td>\n      <td>married</td>\n      <td>professional</td>\n      <td>high</td>\n    </tr>\n  </tbody>\n</table>\n</div>",
            "text/plain": "      Education Marital_Status    Occupation Annual_Income\n2   high school  never married   agriculture           low\n5   high school  never married   agriculture           low\n12    bachelors  never married   agriculture           low\n19    bachelors        married     transport          high\n13  high school        married  professional          high"
          },
          "metadata": {}
        }
      ]
    },
    {
      "metadata": {
        "trusted": true,
        "scrolled": false
      },
      "cell_type": "code",
      "source": "split_criterion = 'gini'\nfor feature in df_new.drop(columns='Annual_Income').columns:\n    feature_info_gain, remaining_impurity = comp_feature_information_gain(df_new, 'Annual_Income', feature, split_criterion)\n    df_splits = df_splits.append({'Split':feature, 'Remainder':remaining_impurity, 'Information_Gain':feature_info_gain}, ignore_index=True)",
      "execution_count": 13,
      "outputs": [
        {
          "output_type": "stream",
          "text": "target feature: Annual_Income\ndescriptive_feature: Education\nsplit criterion: gini\nimpurity of partitions: [0.625, 0.531, 0.375]\nweights of partitions: [0.4, 0.4, 0.2]\nremaining impurity: 0.5374000000000001\ninformation gain: 0.01759999999999995\n====================\ntarget feature: Annual_Income\ndescriptive_feature: Marital_Status\nsplit criterion: gini\nimpurity of partitions: [0.611, 0.42, 0.375]\nweights of partitions: [0.3, 0.5, 0.2]\nremaining impurity: 0.4683\ninformation gain: 0.08670000000000005\n====================\ntarget feature: Annual_Income\ndescriptive_feature: Occupation\nsplit criterion: gini\nimpurity of partitions: [0.5, 0.278, 0.5]\nweights of partitions: [0.3, 0.3, 0.4]\nremaining impurity: 0.4334\ninformation gain: 0.12160000000000004\n====================\n",
          "name": "stdout"
        }
      ]
    },
    {
      "metadata": {},
      "cell_type": "markdown",
      "source": "We set **Is_Optimal** feature to **True** for max Information_Gain row, all other to **False**"
    },
    {
      "metadata": {
        "trusted": true,
        "scrolled": true
      },
      "cell_type": "code",
      "source": "df_splits.loc[df_splits['Information_Gain'].idxmax(), 'Is_Optimal'] = True\ndf_splits['Is_Optimal'].fillna(False, inplace=True)",
      "execution_count": 14,
      "outputs": []
    },
    {
      "metadata": {
        "trusted": true
      },
      "cell_type": "code",
      "source": "df_splits",
      "execution_count": 15,
      "outputs": [
        {
          "output_type": "execute_result",
          "execution_count": 15,
          "data": {
            "text/html": "<div>\n<style scoped>\n    .dataframe tbody tr th:only-of-type {\n        vertical-align: middle;\n    }\n\n    .dataframe tbody tr th {\n        vertical-align: top;\n    }\n\n    .dataframe thead th {\n        text-align: right;\n    }\n</style>\n<table border=\"1\" class=\"dataframe\">\n  <thead>\n    <tr style=\"text-align: right;\">\n      <th></th>\n      <th>Split</th>\n      <th>Remainder</th>\n      <th>Information_Gain</th>\n      <th>Is_Optimal</th>\n    </tr>\n  </thead>\n  <tbody>\n    <tr>\n      <th>0</th>\n      <td>Age_24</td>\n      <td>0.35275</td>\n      <td>0.20225</td>\n      <td>True</td>\n    </tr>\n    <tr>\n      <th>1</th>\n      <td>Age_27</td>\n      <td>0.36000</td>\n      <td>0.19500</td>\n      <td>False</td>\n    </tr>\n    <tr>\n      <th>2</th>\n      <td>Age_38</td>\n      <td>0.52900</td>\n      <td>0.02600</td>\n      <td>False</td>\n    </tr>\n    <tr>\n      <th>3</th>\n      <td>Age_42</td>\n      <td>0.47325</td>\n      <td>0.08175</td>\n      <td>False</td>\n    </tr>\n    <tr>\n      <th>4</th>\n      <td>Education</td>\n      <td>0.53740</td>\n      <td>0.01760</td>\n      <td>False</td>\n    </tr>\n    <tr>\n      <th>5</th>\n      <td>Marital_Status</td>\n      <td>0.46830</td>\n      <td>0.08670</td>\n      <td>False</td>\n    </tr>\n    <tr>\n      <th>6</th>\n      <td>Occupation</td>\n      <td>0.43340</td>\n      <td>0.12160</td>\n      <td>False</td>\n    </tr>\n  </tbody>\n</table>\n</div>",
            "text/plain": "            Split  Remainder  Information_Gain  Is_Optimal\n0          Age_24    0.35275           0.20225        True\n1          Age_27    0.36000           0.19500       False\n2          Age_38    0.52900           0.02600       False\n3          Age_42    0.47325           0.08175       False\n4       Education    0.53740           0.01760       False\n5  Marital_Status    0.46830           0.08670       False\n6      Occupation    0.43340           0.12160       False"
          },
          "metadata": {}
        }
      ]
    },
    {
      "metadata": {},
      "cell_type": "markdown",
      "source": "The above table shows final df_splits dataframe, with optimal root node **'Age_24'** marked as **True**."
    },
    {
      "metadata": {},
      "cell_type": "markdown",
      "source": "## Part C\nIn this part we assume **Education** feature is the root node of decision tree.<br>\nNow, we drop redundant columns ID and Age"
    },
    {
      "metadata": {
        "trusted": true
      },
      "cell_type": "code",
      "source": "df_new = df.copy().drop(columns=['ID', 'Age'])",
      "execution_count": 16,
      "outputs": []
    },
    {
      "metadata": {
        "trusted": true
      },
      "cell_type": "code",
      "source": "df_new.head()",
      "execution_count": 17,
      "outputs": [
        {
          "output_type": "execute_result",
          "execution_count": 17,
          "data": {
            "text/html": "<div>\n<style scoped>\n    .dataframe tbody tr th:only-of-type {\n        vertical-align: middle;\n    }\n\n    .dataframe tbody tr th {\n        vertical-align: top;\n    }\n\n    .dataframe thead th {\n        text-align: right;\n    }\n</style>\n<table border=\"1\" class=\"dataframe\">\n  <thead>\n    <tr style=\"text-align: right;\">\n      <th></th>\n      <th>Education</th>\n      <th>Marital_Status</th>\n      <th>Occupation</th>\n      <th>Annual_Income</th>\n    </tr>\n  </thead>\n  <tbody>\n    <tr>\n      <th>2</th>\n      <td>high school</td>\n      <td>never married</td>\n      <td>agriculture</td>\n      <td>low</td>\n    </tr>\n    <tr>\n      <th>5</th>\n      <td>high school</td>\n      <td>never married</td>\n      <td>agriculture</td>\n      <td>low</td>\n    </tr>\n    <tr>\n      <th>12</th>\n      <td>bachelors</td>\n      <td>never married</td>\n      <td>agriculture</td>\n      <td>low</td>\n    </tr>\n    <tr>\n      <th>19</th>\n      <td>bachelors</td>\n      <td>married</td>\n      <td>transport</td>\n      <td>high</td>\n    </tr>\n    <tr>\n      <th>13</th>\n      <td>high school</td>\n      <td>married</td>\n      <td>professional</td>\n      <td>high</td>\n    </tr>\n  </tbody>\n</table>\n</div>",
            "text/plain": "      Education Marital_Status    Occupation Annual_Income\n2   high school  never married   agriculture           low\n5   high school  never married   agriculture           low\n12    bachelors  never married   agriculture           low\n19    bachelors        married     transport          high\n13  high school        married  professional          high"
          },
          "metadata": {}
        }
      ]
    },
    {
      "metadata": {
        "trusted": true
      },
      "cell_type": "code",
      "source": "df_new.shape",
      "execution_count": 18,
      "outputs": [
        {
          "output_type": "execute_result",
          "execution_count": 18,
          "data": {
            "text/plain": "(20, 4)"
          },
          "metadata": {}
        }
      ]
    },
    {
      "metadata": {},
      "cell_type": "markdown",
      "source": "We list all unique values for column **Education** and look for possible missing values."
    },
    {
      "metadata": {
        "trusted": true
      },
      "cell_type": "code",
      "source": "df_new['Education'].value_counts()",
      "execution_count": 19,
      "outputs": [
        {
          "output_type": "execute_result",
          "execution_count": 19,
          "data": {
            "text/plain": "high school    8\nbachelors      8\ndoctorate      4\nName: Education, dtype: int64"
          },
          "metadata": {}
        }
      ]
    },
    {
      "metadata": {},
      "cell_type": "markdown",
      "source": "We create a dataframe called **df_prediction** to store our probabilities, at different leaf conditions."
    },
    {
      "metadata": {
        "trusted": true
      },
      "cell_type": "code",
      "source": "df_prediction = pd.DataFrame(columns=['Leaf_Condition','Low_Income_Prob','Mid_Income_Prob','High_Income_Prob','Leaf_Prediction'])\ndf_prediction ",
      "execution_count": 20,
      "outputs": [
        {
          "output_type": "execute_result",
          "execution_count": 20,
          "data": {
            "text/html": "<div>\n<style scoped>\n    .dataframe tbody tr th:only-of-type {\n        vertical-align: middle;\n    }\n\n    .dataframe tbody tr th {\n        vertical-align: top;\n    }\n\n    .dataframe thead th {\n        text-align: right;\n    }\n</style>\n<table border=\"1\" class=\"dataframe\">\n  <thead>\n    <tr style=\"text-align: right;\">\n      <th></th>\n      <th>Leaf_Condition</th>\n      <th>Low_Income_Prob</th>\n      <th>Mid_Income_Prob</th>\n      <th>High_Income_Prob</th>\n      <th>Leaf_Prediction</th>\n    </tr>\n  </thead>\n  <tbody>\n  </tbody>\n</table>\n</div>",
            "text/plain": "Empty DataFrame\nColumns: [Leaf_Condition, Low_Income_Prob, Mid_Income_Prob, High_Income_Prob, Leaf_Prediction]\nIndex: []"
          },
          "metadata": {}
        }
      ]
    },
    {
      "metadata": {},
      "cell_type": "markdown",
      "source": "We write a function to calculate probabilities of low, mid and high income based on input df"
    },
    {
      "metadata": {
        "trusted": true
      },
      "cell_type": "code",
      "source": "def probs(df, df_orig):\n    \"\"\"This function returns low, mid, high probabilities of input df\n    \"\"\"\n    low = mid = high = 0\n    \n    # probability = no. of instances of target class in this subset / no. of instances of target class in original dataset.\n    \n    if 'low' in df['Annual_Income'].values:\n        low = df['Annual_Income'].value_counts()['low'] / df_orig['Annual_Income'].value_counts()['low'].sum()\n    if 'mid' in df['Annual_Income'].values:\n        mid = df['Annual_Income'].value_counts()['mid'] / df_orig['Annual_Income'].value_counts()['mid'].sum()\n    if 'high' in df['Annual_Income'].values:\n        high = df['Annual_Income'].value_counts()['high'] / df_orig['Annual_Income'].value_counts()['high'].sum()\n        \n    return low, mid, high",
      "execution_count": 21,
      "outputs": []
    },
    {
      "metadata": {},
      "cell_type": "markdown",
      "source": "We now calculate **Information Gain** for all unique levels of **Education**"
    },
    {
      "metadata": {
        "trusted": true
      },
      "cell_type": "code",
      "source": "split_criterion = 'gini'\nfor condition in df_new['Education'].unique():\n    df_temp = df_new[df_new.Education == condition]\n    print(df_temp)\n    low, mid, high = probs(df_temp, df_new)\n    print(\"low:\", low, \"mid:\", mid, \"high:\", high)\n    print(\"=====================\")\n    condition_str = \"Education == \" + condition\n    df_prediction = df_prediction.append({'Leaf_Condition':condition_str, 'Low_Income_Prob':low, 'Mid_Income_Prob':mid, 'High_Income_Prob':high},ignore_index=True)\n    for col in df_temp.drop(columns=['Education', TARGET]):\n        comp_feature_information_gain(df_temp, TARGET, col, split_criterion)\n    ",
      "execution_count": 22,
      "outputs": [
        {
          "output_type": "stream",
          "text": "      Education Marital_Status    Occupation Annual_Income\n2   high school  never married   agriculture           low\n5   high school  never married   agriculture           low\n13  high school        married  professional          high\n9   high school        married     transport           mid\n10  high school  never married     transport           mid\n4   high school        married   agriculture           mid\n18  high school       divorced  professional          high\n6   high school       divorced     transport           mid\nlow: 0.6666666666666666 mid: 0.3333333333333333 high: 0.4\n=====================\ntarget feature: Annual_Income\ndescriptive_feature: Marital_Status\nsplit criterion: gini\nimpurity of partitions: [0.444, 0.444, 0.5]\nweights of partitions: [0.375, 0.375, 0.25]\nremaining impurity: 0.458\ninformation gain: 0.16699999999999998\n====================\ntarget feature: Annual_Income\ndescriptive_feature: Occupation\nsplit criterion: gini\nimpurity of partitions: [0.444, 0.0, 0.0]\nweights of partitions: [0.375, 0.25, 0.375]\nremaining impurity: 0.1665\ninformation gain: 0.4585\n====================\n    Education Marital_Status    Occupation Annual_Income\n12  bachelors  never married   agriculture           low\n19  bachelors        married     transport          high\n15  bachelors  never married   agriculture           mid\n3   bachelors        married  professional           mid\n14  bachelors        married   agriculture           mid\n17  bachelors        married  professional           mid\n0   bachelors  never married  professional          high\n8   bachelors       divorced     transport           mid\nlow: 0.3333333333333333 mid: 0.4166666666666667 high: 0.4\n=====================\ntarget feature: Annual_Income\ndescriptive_feature: Marital_Status\nsplit criterion: gini\nimpurity of partitions: [0.667, 0.375, 0.0]\nweights of partitions: [0.375, 0.5, 0.125]\nremaining impurity: 0.43762500000000004\ninformation gain: 0.09337499999999999\n====================\ntarget feature: Annual_Income\ndescriptive_feature: Occupation\nsplit criterion: gini\nimpurity of partitions: [0.444, 0.5, 0.444]\nweights of partitions: [0.375, 0.25, 0.375]\nremaining impurity: 0.45799999999999996\ninformation gain: 0.07300000000000006\n====================\n    Education Marital_Status    Occupation Annual_Income\n7   doctorate        married  professional          high\n16  doctorate       divorced     transport           mid\n11  doctorate        married  professional           mid\n1   doctorate        married  professional           mid\nlow: 0 mid: 0.25 high: 0.2\n=====================\ntarget feature: Annual_Income\ndescriptive_feature: Marital_Status\nsplit criterion: gini\nimpurity of partitions: [0.444, 0.0]\nweights of partitions: [0.75, 0.25]\nremaining impurity: 0.333\ninformation gain: 0.04199999999999998\n====================\ntarget feature: Annual_Income\ndescriptive_feature: Occupation\nsplit criterion: gini\nimpurity of partitions: [0.444, 0.0]\nweights of partitions: [0.75, 0.25]\nremaining impurity: 0.333\ninformation gain: 0.04199999999999998\n====================\n",
          "name": "stdout"
        }
      ]
    },
    {
      "metadata": {},
      "cell_type": "markdown",
      "source": "This function returns target class based on column name for highest vale."
    },
    {
      "metadata": {
        "trusted": true
      },
      "cell_type": "code",
      "source": "def ret_target_class(str):\n    classes = {'Mid_Income_Prob':'mid', 'Low_Income_Prob':'low', 'High_Income_Prob':'high'}\n    return classes.get(str, None)",
      "execution_count": 23,
      "outputs": []
    },
    {
      "metadata": {
        "trusted": true
      },
      "cell_type": "code",
      "source": "df_prediction['Leaf_Prediction'][0] = ret_target_class(df_prediction.drop(columns=['Leaf_Condition', 'Leaf_Prediction']).iloc[0].idxmax())\ndf_prediction['Leaf_Prediction'][1] = ret_target_class(df_prediction.drop(columns=['Leaf_Condition', 'Leaf_Prediction']).iloc[1].idxmax())\ndf_prediction['Leaf_Prediction'][2] = ret_target_class(df_prediction.drop(columns=['Leaf_Condition', 'Leaf_Prediction']).iloc[2].idxmax())",
      "execution_count": 24,
      "outputs": []
    },
    {
      "metadata": {
        "trusted": true
      },
      "cell_type": "markdown",
      "source": "## Question 1 wrap up"
    },
    {
      "metadata": {
        "trusted": true,
        "scrolled": true
      },
      "cell_type": "code",
      "source": "df_splits",
      "execution_count": 25,
      "outputs": [
        {
          "output_type": "execute_result",
          "execution_count": 25,
          "data": {
            "text/html": "<div>\n<style scoped>\n    .dataframe tbody tr th:only-of-type {\n        vertical-align: middle;\n    }\n\n    .dataframe tbody tr th {\n        vertical-align: top;\n    }\n\n    .dataframe thead th {\n        text-align: right;\n    }\n</style>\n<table border=\"1\" class=\"dataframe\">\n  <thead>\n    <tr style=\"text-align: right;\">\n      <th></th>\n      <th>Split</th>\n      <th>Remainder</th>\n      <th>Information_Gain</th>\n      <th>Is_Optimal</th>\n    </tr>\n  </thead>\n  <tbody>\n    <tr>\n      <th>0</th>\n      <td>Age_24</td>\n      <td>0.35275</td>\n      <td>0.20225</td>\n      <td>True</td>\n    </tr>\n    <tr>\n      <th>1</th>\n      <td>Age_27</td>\n      <td>0.36000</td>\n      <td>0.19500</td>\n      <td>False</td>\n    </tr>\n    <tr>\n      <th>2</th>\n      <td>Age_38</td>\n      <td>0.52900</td>\n      <td>0.02600</td>\n      <td>False</td>\n    </tr>\n    <tr>\n      <th>3</th>\n      <td>Age_42</td>\n      <td>0.47325</td>\n      <td>0.08175</td>\n      <td>False</td>\n    </tr>\n    <tr>\n      <th>4</th>\n      <td>Education</td>\n      <td>0.53740</td>\n      <td>0.01760</td>\n      <td>False</td>\n    </tr>\n    <tr>\n      <th>5</th>\n      <td>Marital_Status</td>\n      <td>0.46830</td>\n      <td>0.08670</td>\n      <td>False</td>\n    </tr>\n    <tr>\n      <th>6</th>\n      <td>Occupation</td>\n      <td>0.43340</td>\n      <td>0.12160</td>\n      <td>False</td>\n    </tr>\n  </tbody>\n</table>\n</div>",
            "text/plain": "            Split  Remainder  Information_Gain  Is_Optimal\n0          Age_24    0.35275           0.20225        True\n1          Age_27    0.36000           0.19500       False\n2          Age_38    0.52900           0.02600       False\n3          Age_42    0.47325           0.08175       False\n4       Education    0.53740           0.01760       False\n5  Marital_Status    0.46830           0.08670       False\n6      Occupation    0.43340           0.12160       False"
          },
          "metadata": {}
        }
      ]
    },
    {
      "metadata": {
        "trusted": true
      },
      "cell_type": "code",
      "source": "df_prediction",
      "execution_count": 26,
      "outputs": [
        {
          "output_type": "execute_result",
          "execution_count": 26,
          "data": {
            "text/html": "<div>\n<style scoped>\n    .dataframe tbody tr th:only-of-type {\n        vertical-align: middle;\n    }\n\n    .dataframe tbody tr th {\n        vertical-align: top;\n    }\n\n    .dataframe thead th {\n        text-align: right;\n    }\n</style>\n<table border=\"1\" class=\"dataframe\">\n  <thead>\n    <tr style=\"text-align: right;\">\n      <th></th>\n      <th>Leaf_Condition</th>\n      <th>Low_Income_Prob</th>\n      <th>Mid_Income_Prob</th>\n      <th>High_Income_Prob</th>\n      <th>Leaf_Prediction</th>\n    </tr>\n  </thead>\n  <tbody>\n    <tr>\n      <th>0</th>\n      <td>Education == high school</td>\n      <td>0.666667</td>\n      <td>0.333333</td>\n      <td>0.4</td>\n      <td>low</td>\n    </tr>\n    <tr>\n      <th>1</th>\n      <td>Education == bachelors</td>\n      <td>0.333333</td>\n      <td>0.416667</td>\n      <td>0.4</td>\n      <td>mid</td>\n    </tr>\n    <tr>\n      <th>2</th>\n      <td>Education == doctorate</td>\n      <td>0.000000</td>\n      <td>0.250000</td>\n      <td>0.2</td>\n      <td>mid</td>\n    </tr>\n  </tbody>\n</table>\n</div>",
            "text/plain": "             Leaf_Condition  Low_Income_Prob  Mid_Income_Prob  \\\n0  Education == high school         0.666667         0.333333   \n1    Education == bachelors         0.333333         0.416667   \n2    Education == doctorate         0.000000         0.250000   \n\n   High_Income_Prob Leaf_Prediction  \n0               0.4             low  \n1               0.4             mid  \n2               0.2             mid  "
          },
          "metadata": {}
        }
      ]
    }
  ],
  "metadata": {
    "kernelspec": {
      "name": "python36",
      "display_name": "Python 3.6",
      "language": "python"
    },
    "language_info": {
      "mimetype": "text/x-python",
      "nbconvert_exporter": "python",
      "name": "python",
      "pygments_lexer": "ipython3",
      "version": "3.6.6",
      "file_extension": ".py",
      "codemirror_mode": {
        "version": 3,
        "name": "ipython"
      }
    }
  },
  "nbformat": 4,
  "nbformat_minor": 2
}